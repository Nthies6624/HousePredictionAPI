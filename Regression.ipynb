{
 "cells": [
  {
   "cell_type": "markdown",
   "metadata": {},
   "source": [
    "# Building a House Price Predictor API  \n",
    "The client is interested in forecasting houses so the company can look to invest. Rather than using a registered valuer they're looking for something which can be done using the latest technology. Jamie has collected some data on existing house prices over the last few years and has asked to see what you can do. "
   ]
  },
  {
   "cell_type": "markdown",
   "metadata": {
    "tags": []
   },
   "source": [
    "# 1. Import Data"
   ]
  },
  {
   "cell_type": "code",
   "execution_count": 1,
   "metadata": {},
   "outputs": [
    {
     "name": "stdout",
     "output_type": "stream",
     "text": [
      "Collecting pandas\n",
      "  Downloading pandas-1.5.3-cp311-cp311-win_amd64.whl (10.3 MB)\n",
      "     ---------------------------------------- 0.0/10.3 MB ? eta -:--:--\n",
      "     - -------------------------------------- 0.3/10.3 MB 10.9 MB/s eta 0:00:01\n",
      "     ----- ---------------------------------- 1.4/10.3 MB 18.0 MB/s eta 0:00:01\n",
      "     ----------- ---------------------------- 2.9/10.3 MB 22.9 MB/s eta 0:00:01\n",
      "     --------------- ------------------------ 4.0/10.3 MB 22.9 MB/s eta 0:00:01\n",
      "     -------------------- ------------------- 5.2/10.3 MB 23.9 MB/s eta 0:00:01\n",
      "     -------------------------- ------------- 6.8/10.3 MB 24.2 MB/s eta 0:00:01\n",
      "     -------------------------------- ------- 8.5/10.3 MB 25.8 MB/s eta 0:00:01\n",
      "     ------------------------------------- -- 9.6/10.3 MB 25.6 MB/s eta 0:00:01\n",
      "     --------------------------------------  10.3/10.3 MB 27.3 MB/s eta 0:00:01\n",
      "     --------------------------------------  10.3/10.3 MB 27.3 MB/s eta 0:00:01\n",
      "     --------------------------------------- 10.3/10.3 MB 20.4 MB/s eta 0:00:00\n",
      "Collecting scikit-learn\n",
      "  Downloading scikit_learn-1.2.1-cp311-cp311-win_amd64.whl (8.2 MB)\n",
      "     ---------------------------------------- 0.0/8.2 MB ? eta -:--:--\n",
      "     --------- ------------------------------ 2.0/8.2 MB 43.1 MB/s eta 0:00:01\n",
      "     ------------------ --------------------- 3.7/8.2 MB 39.4 MB/s eta 0:00:01\n",
      "     ------------------------- -------------- 5.2/8.2 MB 36.7 MB/s eta 0:00:01\n",
      "     ------------------------------- -------- 6.5/8.2 MB 34.6 MB/s eta 0:00:01\n",
      "     ---------------------------------------  8.2/8.2 MB 35.0 MB/s eta 0:00:01\n",
      "     ---------------------------------------  8.2/8.2 MB 35.0 MB/s eta 0:00:01\n",
      "     ---------------------------------------  8.2/8.2 MB 35.0 MB/s eta 0:00:01\n",
      "     ---------------------------------------- 8.2/8.2 MB 22.9 MB/s eta 0:00:00\n",
      "Collecting xgboost\n",
      "  Downloading xgboost-1.7.4-py3-none-win_amd64.whl (89.1 MB)\n",
      "     ---------------------------------------- 0.0/89.1 MB ? eta -:--:--\n",
      "      --------------------------------------- 2.1/89.1 MB 66.2 MB/s eta 0:00:02\n",
      "     - -------------------------------------- 4.0/89.1 MB 50.0 MB/s eta 0:00:02\n",
      "     -- ------------------------------------- 5.5/89.1 MB 44.1 MB/s eta 0:00:02\n",
      "     --- ------------------------------------ 7.9/89.1 MB 45.8 MB/s eta 0:00:02\n",
      "     ---- ----------------------------------- 9.6/89.1 MB 43.8 MB/s eta 0:00:02\n",
      "     ---- ---------------------------------- 10.0/89.1 MB 42.6 MB/s eta 0:00:02\n",
      "     ---- ---------------------------------- 10.0/89.1 MB 42.6 MB/s eta 0:00:02\n",
      "     ----- --------------------------------- 11.9/89.1 MB 29.8 MB/s eta 0:00:03\n",
      "     ----- --------------------------------- 13.5/89.1 MB 29.8 MB/s eta 0:00:03\n",
      "     ------ -------------------------------- 15.3/89.1 MB 28.5 MB/s eta 0:00:03\n",
      "     ------- ------------------------------- 16.7/89.1 MB 27.3 MB/s eta 0:00:03\n",
      "     -------- ------------------------------ 18.4/89.1 MB 27.3 MB/s eta 0:00:03\n",
      "     -------- ------------------------------ 19.9/89.1 MB 27.3 MB/s eta 0:00:03\n",
      "     --------- ----------------------------- 21.7/89.1 MB 34.4 MB/s eta 0:00:02\n",
      "     ---------- ---------------------------- 23.9/89.1 MB 38.5 MB/s eta 0:00:02\n",
      "     ---------- ---------------------------- 25.0/89.1 MB 36.4 MB/s eta 0:00:02\n",
      "     ----------- --------------------------- 26.5/89.1 MB 36.4 MB/s eta 0:00:02\n",
      "     ------------ -------------------------- 28.0/89.1 MB 32.7 MB/s eta 0:00:02\n",
      "     ------------ -------------------------- 29.7/89.1 MB 36.4 MB/s eta 0:00:02\n",
      "     ------------- ------------------------- 31.7/89.1 MB 34.4 MB/s eta 0:00:02\n",
      "     -------------- ------------------------ 32.2/89.1 MB 31.2 MB/s eta 0:00:02\n",
      "     -------------- ------------------------ 34.0/89.1 MB 29.8 MB/s eta 0:00:02\n",
      "     --------------- ----------------------- 36.1/89.1 MB 36.3 MB/s eta 0:00:02\n",
      "     --------------- ----------------------- 36.5/89.1 MB 31.2 MB/s eta 0:00:02\n",
      "     ---------------- ---------------------- 38.3/89.1 MB 32.8 MB/s eta 0:00:02\n",
      "     ----------------- --------------------- 40.1/89.1 MB 32.8 MB/s eta 0:00:02\n",
      "     ------------------ -------------------- 42.0/89.1 MB 31.2 MB/s eta 0:00:02\n",
      "     ------------------- ------------------- 43.6/89.1 MB 34.4 MB/s eta 0:00:02\n",
      "     ------------------- ------------------- 45.6/89.1 MB 34.4 MB/s eta 0:00:02\n",
      "     -------------------- ------------------ 47.9/89.1 MB 40.9 MB/s eta 0:00:02\n",
      "     --------------------- ----------------- 49.5/89.1 MB 40.9 MB/s eta 0:00:01\n",
      "     ---------------------- ---------------- 51.4/89.1 MB 43.7 MB/s eta 0:00:01\n",
      "     ---------------------- ---------------- 52.5/89.1 MB 38.6 MB/s eta 0:00:01\n",
      "     ----------------------- --------------- 54.6/89.1 MB 40.9 MB/s eta 0:00:01\n",
      "     ------------------------ -------------- 55.7/89.1 MB 36.4 MB/s eta 0:00:01\n",
      "     ------------------------- ------------- 57.4/89.1 MB 36.4 MB/s eta 0:00:01\n",
      "     ------------------------- ------------- 58.9/89.1 MB 34.4 MB/s eta 0:00:01\n",
      "     -------------------------- ------------ 60.2/89.1 MB 32.7 MB/s eta 0:00:01\n",
      "     -------------------------- ------------ 61.6/89.1 MB 32.7 MB/s eta 0:00:01\n",
      "     --------------------------- ----------- 62.7/89.1 MB 31.2 MB/s eta 0:00:01\n",
      "     ---------------------------- ---------- 64.5/89.1 MB 31.2 MB/s eta 0:00:01\n",
      "     ---------------------------- ---------- 65.7/89.1 MB 31.2 MB/s eta 0:00:01\n",
      "     ----------------------------- --------- 67.6/89.1 MB 31.2 MB/s eta 0:00:01\n",
      "     ------------------------------ -------- 69.5/89.1 MB 32.7 MB/s eta 0:00:01\n",
      "     ------------------------------- ------- 71.6/89.1 MB 34.4 MB/s eta 0:00:01\n",
      "     ------------------------------- ------- 72.9/89.1 MB 36.3 MB/s eta 0:00:01\n",
      "     -------------------------------- ------ 75.1/89.1 MB 40.9 MB/s eta 0:00:01\n",
      "     --------------------------------- ----- 76.4/89.1 MB 38.6 MB/s eta 0:00:01\n",
      "     ---------------------------------- ---- 78.6/89.1 MB 38.6 MB/s eta 0:00:01\n",
      "     ---------------------------------- ---- 79.7/89.1 MB 36.4 MB/s eta 0:00:01\n",
      "     ----------------------------------- --- 81.8/89.1 MB 36.4 MB/s eta 0:00:01\n",
      "     ------------------------------------ -- 83.4/89.1 MB 38.6 MB/s eta 0:00:01\n",
      "     ------------------------------------- - 85.4/89.1 MB 36.4 MB/s eta 0:00:01\n",
      "     --------------------------------------  87.5/89.1 MB 38.5 MB/s eta 0:00:01\n",
      "     --------------------------------------  89.1/89.1 MB 40.9 MB/s eta 0:00:01\n",
      "     --------------------------------------  89.1/89.1 MB 40.9 MB/s eta 0:00:01\n",
      "     --------------------------------------  89.1/89.1 MB 40.9 MB/s eta 0:00:01\n",
      "     --------------------------------------  89.1/89.1 MB 40.9 MB/s eta 0:00:01\n",
      "     --------------------------------------  89.1/89.1 MB 40.9 MB/s eta 0:00:01\n",
      "     --------------------------------------  89.1/89.1 MB 40.9 MB/s eta 0:00:01\n",
      "     --------------------------------------  89.1/89.1 MB 40.9 MB/s eta 0:00:01\n",
      "     --------------------------------------  89.1/89.1 MB 40.9 MB/s eta 0:00:01\n",
      "     --------------------------------------  89.1/89.1 MB 40.9 MB/s eta 0:00:01\n",
      "     --------------------------------------  89.1/89.1 MB 40.9 MB/s eta 0:00:01\n",
      "     --------------------------------------  89.1/89.1 MB 40.9 MB/s eta 0:00:01\n",
      "     --------------------------------------  89.1/89.1 MB 40.9 MB/s eta 0:00:01\n",
      "     --------------------------------------  89.1/89.1 MB 40.9 MB/s eta 0:00:01\n",
      "     --------------------------------------  89.1/89.1 MB 40.9 MB/s eta 0:00:01\n",
      "     --------------------------------------  89.1/89.1 MB 40.9 MB/s eta 0:00:01\n",
      "     --------------------------------------  89.1/89.1 MB 40.9 MB/s eta 0:00:01\n",
      "     --------------------------------------  89.1/89.1 MB 40.9 MB/s eta 0:00:01\n",
      "     --------------------------------------  89.1/89.1 MB 40.9 MB/s eta 0:00:01\n",
      "     --------------------------------------  89.1/89.1 MB 40.9 MB/s eta 0:00:01\n",
      "     --------------------------------------  89.1/89.1 MB 40.9 MB/s eta 0:00:01\n",
      "     --------------------------------------  89.1/89.1 MB 40.9 MB/s eta 0:00:01\n",
      "     --------------------------------------  89.1/89.1 MB 40.9 MB/s eta 0:00:01\n",
      "     --------------------------------------  89.1/89.1 MB 40.9 MB/s eta 0:00:01\n",
      "     --------------------------------------  89.1/89.1 MB 40.9 MB/s eta 0:00:01\n",
      "     --------------------------------------  89.1/89.1 MB 40.9 MB/s eta 0:00:01\n",
      "     --------------------------------------  89.1/89.1 MB 40.9 MB/s eta 0:00:01\n",
      "     --------------------------------------  89.1/89.1 MB 40.9 MB/s eta 0:00:01\n",
      "     ---------------------------------------- 89.1/89.1 MB 6.1 MB/s eta 0:00:00\n",
      "Collecting dill\n",
      "  Downloading dill-0.3.6-py3-none-any.whl (110 kB)\n",
      "     ---------------------------------------- 0.0/110.5 kB ? eta -:--:--\n",
      "     ---------------------------------------- 110.5/110.5 kB ? eta 0:00:00\n",
      "Requirement already satisfied: python-dateutil>=2.8.1 in c:\\full stack machine learning\\fullstack\\lib\\site-packages (from pandas) (2.8.2)\n",
      "Collecting pytz>=2020.1\n",
      "  Downloading pytz-2022.7.1-py2.py3-none-any.whl (499 kB)\n",
      "     ---------------------------------------- 0.0/499.4 kB ? eta -:--:--\n",
      "     ------------------------------------- 499.4/499.4 kB 32.6 MB/s eta 0:00:00\n",
      "Collecting numpy>=1.21.0\n",
      "  Downloading numpy-1.24.2-cp311-cp311-win_amd64.whl (14.8 MB)\n",
      "     ---------------------------------------- 0.0/14.8 MB ? eta -:--:--\n",
      "     ---- ----------------------------------- 1.7/14.8 MB 36.8 MB/s eta 0:00:01\n",
      "     ---------- ----------------------------- 3.8/14.8 MB 40.6 MB/s eta 0:00:01\n",
      "     --------------- ------------------------ 5.7/14.8 MB 40.2 MB/s eta 0:00:01\n",
      "     -------------------- ------------------- 7.7/14.8 MB 44.9 MB/s eta 0:00:01\n",
      "     ------------------------- -------------- 9.3/14.8 MB 39.8 MB/s eta 0:00:01\n",
      "     ------------------------------ -------- 11.6/14.8 MB 43.5 MB/s eta 0:00:01\n",
      "     ----------------------------------- --- 13.4/14.8 MB 43.5 MB/s eta 0:00:01\n",
      "     --------------------------------------  14.8/14.8 MB 43.5 MB/s eta 0:00:01\n",
      "     --------------------------------------  14.8/14.8 MB 43.5 MB/s eta 0:00:01\n",
      "     --------------------------------------  14.8/14.8 MB 43.5 MB/s eta 0:00:01\n",
      "     --------------------------------------- 14.8/14.8 MB 25.1 MB/s eta 0:00:00\n",
      "Collecting scipy>=1.3.2\n",
      "  Downloading scipy-1.10.1-cp311-cp311-win_amd64.whl (42.2 MB)\n",
      "     ---------------------------------------- 0.0/42.2 MB ? eta -:--:--\n",
      "     -- ------------------------------------- 2.2/42.2 MB 67.2 MB/s eta 0:00:01\n",
      "     --- ------------------------------------ 4.0/42.2 MB 50.0 MB/s eta 0:00:01\n",
      "     ---- ----------------------------------- 4.8/42.2 MB 43.1 MB/s eta 0:00:01\n",
      "     ------ --------------------------------- 6.6/42.2 MB 38.6 MB/s eta 0:00:01\n",
      "     -------- ------------------------------- 8.6/42.2 MB 39.1 MB/s eta 0:00:01\n",
      "     --------- ----------------------------- 10.1/42.2 MB 35.8 MB/s eta 0:00:01\n",
      "     ----------- --------------------------- 12.3/42.2 MB 34.4 MB/s eta 0:00:01\n",
      "     ------------ -------------------------- 13.6/42.2 MB 34.4 MB/s eta 0:00:01\n",
      "     ------------- ------------------------- 15.0/42.2 MB 40.9 MB/s eta 0:00:01\n",
      "     --------------- ----------------------- 17.2/42.2 MB 38.5 MB/s eta 0:00:01\n",
      "     ----------------- --------------------- 18.9/42.2 MB 38.6 MB/s eta 0:00:01\n",
      "     ------------------ -------------------- 20.0/42.2 MB 34.4 MB/s eta 0:00:01\n",
      "     -------------------- ------------------ 22.5/42.2 MB 34.4 MB/s eta 0:00:01\n",
      "     ---------------------- ---------------- 24.4/42.2 MB 38.5 MB/s eta 0:00:01\n",
      "     ----------------------- --------------- 26.0/42.2 MB 38.5 MB/s eta 0:00:01\n",
      "     -------------------------- ------------ 29.0/42.2 MB 38.5 MB/s eta 0:00:01\n",
      "     ---------------------------- ---------- 31.2/42.2 MB 43.5 MB/s eta 0:00:01\n",
      "     ------------------------------ -------- 33.1/42.2 MB 40.9 MB/s eta 0:00:01\n",
      "     -------------------------------- ------ 35.7/42.2 MB 40.9 MB/s eta 0:00:01\n",
      "     ---------------------------------- ---- 37.0/42.2 MB 40.9 MB/s eta 0:00:01\n",
      "     ------------------------------------ -- 39.2/42.2 MB 38.5 MB/s eta 0:00:01\n",
      "     ------------------------------------- - 40.9/42.2 MB 38.5 MB/s eta 0:00:01\n",
      "     --------------------------------------  42.2/42.2 MB 36.4 MB/s eta 0:00:01\n",
      "     --------------------------------------  42.2/42.2 MB 36.4 MB/s eta 0:00:01\n",
      "     --------------------------------------  42.2/42.2 MB 36.4 MB/s eta 0:00:01\n",
      "     --------------------------------------  42.2/42.2 MB 36.4 MB/s eta 0:00:01\n",
      "     --------------------------------------  42.2/42.2 MB 36.4 MB/s eta 0:00:01\n",
      "     --------------------------------------  42.2/42.2 MB 36.4 MB/s eta 0:00:01\n",
      "     --------------------------------------  42.2/42.2 MB 36.4 MB/s eta 0:00:01\n",
      "     --------------------------------------  42.2/42.2 MB 36.4 MB/s eta 0:00:01\n",
      "     --------------------------------------- 42.2/42.2 MB 14.2 MB/s eta 0:00:00\n",
      "Collecting joblib>=1.1.1\n",
      "  Downloading joblib-1.2.0-py3-none-any.whl (297 kB)\n",
      "     ---------------------------------------- 0.0/298.0 kB ? eta -:--:--\n",
      "     ------------------------------------- 298.0/298.0 kB 19.2 MB/s eta 0:00:00\n",
      "Collecting threadpoolctl>=2.0.0\n",
      "  Downloading threadpoolctl-3.1.0-py3-none-any.whl (14 kB)\n",
      "Requirement already satisfied: six>=1.5 in c:\\full stack machine learning\\fullstack\\lib\\site-packages (from python-dateutil>=2.8.1->pandas) (1.16.0)\n",
      "Installing collected packages: pytz, threadpoolctl, numpy, joblib, dill, scipy, pandas, xgboost, scikit-learn\n",
      "Successfully installed dill-0.3.6 joblib-1.2.0 numpy-1.24.2 pandas-1.5.3 pytz-2022.7.1 scikit-learn-1.2.1 scipy-1.10.1 threadpoolctl-3.1.0 xgboost-1.7.4\n"
     ]
    }
   ],
   "source": [
    "!pip install pandas scikit-learn xgboost dill"
   ]
  },
  {
   "cell_type": "code",
   "execution_count": 2,
   "metadata": {},
   "outputs": [],
   "source": [
    "import pandas as pd"
   ]
  },
  {
   "cell_type": "code",
   "execution_count": 3,
   "metadata": {},
   "outputs": [],
   "source": [
    "# Load in data \n",
    "df = pd.read_csv('regressiondata.csv', index_col = 'ID') "
   ]
  },
  {
   "cell_type": "code",
   "execution_count": 4,
   "metadata": {},
   "outputs": [
    {
     "data": {
      "text/html": [
       "<div>\n",
       "<style scoped>\n",
       "    .dataframe tbody tr th:only-of-type {\n",
       "        vertical-align: middle;\n",
       "    }\n",
       "\n",
       "    .dataframe tbody tr th {\n",
       "        vertical-align: top;\n",
       "    }\n",
       "\n",
       "    .dataframe thead th {\n",
       "        text-align: right;\n",
       "    }\n",
       "</style>\n",
       "<table border=\"1\" class=\"dataframe\">\n",
       "  <thead>\n",
       "    <tr style=\"text-align: right;\">\n",
       "      <th></th>\n",
       "      <th>TransactionDate</th>\n",
       "      <th>HouseAge</th>\n",
       "      <th>DistanceToStation</th>\n",
       "      <th>NumberOfPubs</th>\n",
       "      <th>PostCode</th>\n",
       "      <th>HousePrice</th>\n",
       "    </tr>\n",
       "    <tr>\n",
       "      <th>ID</th>\n",
       "      <th></th>\n",
       "      <th></th>\n",
       "      <th></th>\n",
       "      <th></th>\n",
       "      <th></th>\n",
       "      <th></th>\n",
       "    </tr>\n",
       "  </thead>\n",
       "  <tbody>\n",
       "    <tr>\n",
       "      <th>0</th>\n",
       "      <td>2020.12</td>\n",
       "      <td>17.0</td>\n",
       "      <td>467.644775</td>\n",
       "      <td>4.0</td>\n",
       "      <td>5222.0</td>\n",
       "      <td>467104</td>\n",
       "    </tr>\n",
       "    <tr>\n",
       "      <th>1</th>\n",
       "      <td>2021.04</td>\n",
       "      <td>36.0</td>\n",
       "      <td>659.924963</td>\n",
       "      <td>3.0</td>\n",
       "      <td>5222.0</td>\n",
       "      <td>547714</td>\n",
       "    </tr>\n",
       "    <tr>\n",
       "      <th>2</th>\n",
       "      <td>2019.04</td>\n",
       "      <td>38.0</td>\n",
       "      <td>305.475941</td>\n",
       "      <td>7.0</td>\n",
       "      <td>5213.0</td>\n",
       "      <td>277232</td>\n",
       "    </tr>\n",
       "    <tr>\n",
       "      <th>3</th>\n",
       "      <td>2021.10</td>\n",
       "      <td>11.0</td>\n",
       "      <td>607.034754</td>\n",
       "      <td>5.0</td>\n",
       "      <td>5213.0</td>\n",
       "      <td>295958</td>\n",
       "    </tr>\n",
       "    <tr>\n",
       "      <th>4</th>\n",
       "      <td>2021.02</td>\n",
       "      <td>14.0</td>\n",
       "      <td>378.827222</td>\n",
       "      <td>5.0</td>\n",
       "      <td>5614.0</td>\n",
       "      <td>439963</td>\n",
       "    </tr>\n",
       "    <tr>\n",
       "      <th>5</th>\n",
       "      <td>2020.02</td>\n",
       "      <td>16.0</td>\n",
       "      <td>806.752405</td>\n",
       "      <td>1.0</td>\n",
       "      <td>5212.0</td>\n",
       "      <td>281262</td>\n",
       "    </tr>\n",
       "    <tr>\n",
       "      <th>6</th>\n",
       "      <td>2019.01</td>\n",
       "      <td>12.0</td>\n",
       "      <td>561.741678</td>\n",
       "      <td>5.0</td>\n",
       "      <td>5614.0</td>\n",
       "      <td>324167</td>\n",
       "    </tr>\n",
       "  </tbody>\n",
       "</table>\n",
       "</div>"
      ],
      "text/plain": [
       "    TransactionDate  HouseAge  DistanceToStation  NumberOfPubs  PostCode  \\\n",
       "ID                                                                         \n",
       "0           2020.12      17.0         467.644775           4.0    5222.0   \n",
       "1           2021.04      36.0         659.924963           3.0    5222.0   \n",
       "2           2019.04      38.0         305.475941           7.0    5213.0   \n",
       "3           2021.10      11.0         607.034754           5.0    5213.0   \n",
       "4           2021.02      14.0         378.827222           5.0    5614.0   \n",
       "5           2020.02      16.0         806.752405           1.0    5212.0   \n",
       "6           2019.01      12.0         561.741678           5.0    5614.0   \n",
       "\n",
       "   HousePrice  \n",
       "ID             \n",
       "0      467104  \n",
       "1      547714  \n",
       "2      277232  \n",
       "3      295958  \n",
       "4      439963  \n",
       "5      281262  \n",
       "6      324167  "
      ]
     },
     "execution_count": 4,
     "metadata": {},
     "output_type": "execute_result"
    }
   ],
   "source": [
    "# Displays the first five rows of data\n",
    "df.head(7)"
   ]
  },
  {
   "cell_type": "code",
   "execution_count": 5,
   "metadata": {},
   "outputs": [
    {
     "data": {
      "text/html": [
       "<div>\n",
       "<style scoped>\n",
       "    .dataframe tbody tr th:only-of-type {\n",
       "        vertical-align: middle;\n",
       "    }\n",
       "\n",
       "    .dataframe tbody tr th {\n",
       "        vertical-align: top;\n",
       "    }\n",
       "\n",
       "    .dataframe thead th {\n",
       "        text-align: right;\n",
       "    }\n",
       "</style>\n",
       "<table border=\"1\" class=\"dataframe\">\n",
       "  <thead>\n",
       "    <tr style=\"text-align: right;\">\n",
       "      <th></th>\n",
       "      <th>TransactionDate</th>\n",
       "      <th>HouseAge</th>\n",
       "      <th>DistanceToStation</th>\n",
       "      <th>NumberOfPubs</th>\n",
       "      <th>PostCode</th>\n",
       "      <th>HousePrice</th>\n",
       "    </tr>\n",
       "    <tr>\n",
       "      <th>ID</th>\n",
       "      <th></th>\n",
       "      <th></th>\n",
       "      <th></th>\n",
       "      <th></th>\n",
       "      <th></th>\n",
       "      <th></th>\n",
       "    </tr>\n",
       "  </thead>\n",
       "  <tbody>\n",
       "    <tr>\n",
       "      <th>9351</th>\n",
       "      <td>2019.07</td>\n",
       "      <td>36.0</td>\n",
       "      <td>554.324820</td>\n",
       "      <td>3.0</td>\n",
       "      <td>5217.0</td>\n",
       "      <td>420246</td>\n",
       "    </tr>\n",
       "    <tr>\n",
       "      <th>9352</th>\n",
       "      <td>2021.02</td>\n",
       "      <td>21.0</td>\n",
       "      <td>2296.349397</td>\n",
       "      <td>4.0</td>\n",
       "      <td>5614.0</td>\n",
       "      <td>256087</td>\n",
       "    </tr>\n",
       "    <tr>\n",
       "      <th>9353</th>\n",
       "      <td>2020.11</td>\n",
       "      <td>18.0</td>\n",
       "      <td>856.174897</td>\n",
       "      <td>0.0</td>\n",
       "      <td>5614.0</td>\n",
       "      <td>257663</td>\n",
       "    </tr>\n",
       "    <tr>\n",
       "      <th>9354</th>\n",
       "      <td>2021.10</td>\n",
       "      <td>6.0</td>\n",
       "      <td>87.260667</td>\n",
       "      <td>9.0</td>\n",
       "      <td>5614.0</td>\n",
       "      <td>681072</td>\n",
       "    </tr>\n",
       "    <tr>\n",
       "      <th>9355</th>\n",
       "      <td>2020.12</td>\n",
       "      <td>20.0</td>\n",
       "      <td>584.007146</td>\n",
       "      <td>4.0</td>\n",
       "      <td>5614.0</td>\n",
       "      <td>403096</td>\n",
       "    </tr>\n",
       "  </tbody>\n",
       "</table>\n",
       "</div>"
      ],
      "text/plain": [
       "      TransactionDate  HouseAge  DistanceToStation  NumberOfPubs  PostCode  \\\n",
       "ID                                                                           \n",
       "9351          2019.07      36.0         554.324820           3.0    5217.0   \n",
       "9352          2021.02      21.0        2296.349397           4.0    5614.0   \n",
       "9353          2020.11      18.0         856.174897           0.0    5614.0   \n",
       "9354          2021.10       6.0          87.260667           9.0    5614.0   \n",
       "9355          2020.12      20.0         584.007146           4.0    5614.0   \n",
       "\n",
       "     HousePrice  \n",
       "ID               \n",
       "9351     420246  \n",
       "9352     256087  \n",
       "9353     257663  \n",
       "9354     681072  \n",
       "9355     403096  "
      ]
     },
     "execution_count": 5,
     "metadata": {},
     "output_type": "execute_result"
    }
   ],
   "source": [
    "# Get the last rows of data\n",
    "df.tail()"
   ]
  },
  {
   "cell_type": "code",
   "execution_count": 6,
   "metadata": {},
   "outputs": [
    {
     "data": {
      "text/plain": [
       "TransactionDate         2020.12\n",
       "HouseAge                   20.0\n",
       "DistanceToStation    584.007146\n",
       "NumberOfPubs                4.0\n",
       "PostCode                 5614.0\n",
       "HousePrice               403096\n",
       "Name: 9355, dtype: object"
      ]
     },
     "execution_count": 6,
     "metadata": {},
     "output_type": "execute_result"
    }
   ],
   "source": [
    "# Get a specific row\n",
    "df.iloc[9355]"
   ]
  },
  {
   "cell_type": "markdown",
   "metadata": {
    "tags": []
   },
   "source": [
    "# 2. Split Data to Prevent Snooping Bias"
   ]
  },
  {
   "cell_type": "code",
   "execution_count": 7,
   "metadata": {},
   "outputs": [],
   "source": [
    "# Import splitting function\n",
    "from sklearn.model_selection import train_test_split"
   ]
  },
  {
   "cell_type": "code",
   "execution_count": 8,
   "metadata": {},
   "outputs": [],
   "source": [
    "# Split data into traininng and testing\n",
    "train, test = train_test_split(df, test_size=0.3, random_state=1234)"
   ]
  },
  {
   "cell_type": "code",
   "execution_count": 9,
   "metadata": {},
   "outputs": [
    {
     "data": {
      "text/html": [
       "<div>\n",
       "<style scoped>\n",
       "    .dataframe tbody tr th:only-of-type {\n",
       "        vertical-align: middle;\n",
       "    }\n",
       "\n",
       "    .dataframe tbody tr th {\n",
       "        vertical-align: top;\n",
       "    }\n",
       "\n",
       "    .dataframe thead th {\n",
       "        text-align: right;\n",
       "    }\n",
       "</style>\n",
       "<table border=\"1\" class=\"dataframe\">\n",
       "  <thead>\n",
       "    <tr style=\"text-align: right;\">\n",
       "      <th></th>\n",
       "      <th>TransactionDate</th>\n",
       "      <th>HouseAge</th>\n",
       "      <th>DistanceToStation</th>\n",
       "      <th>NumberOfPubs</th>\n",
       "      <th>PostCode</th>\n",
       "      <th>HousePrice</th>\n",
       "    </tr>\n",
       "    <tr>\n",
       "      <th>ID</th>\n",
       "      <th></th>\n",
       "      <th></th>\n",
       "      <th></th>\n",
       "      <th></th>\n",
       "      <th></th>\n",
       "      <th></th>\n",
       "    </tr>\n",
       "  </thead>\n",
       "  <tbody>\n",
       "    <tr>\n",
       "      <th>8450</th>\n",
       "      <td>2021.02</td>\n",
       "      <td>34.0</td>\n",
       "      <td>460.994365</td>\n",
       "      <td>8.0</td>\n",
       "      <td>5614.0</td>\n",
       "      <td>460286</td>\n",
       "    </tr>\n",
       "    <tr>\n",
       "      <th>5758</th>\n",
       "      <td>2020.01</td>\n",
       "      <td>17.0</td>\n",
       "      <td>614.851833</td>\n",
       "      <td>3.0</td>\n",
       "      <td>5213.0</td>\n",
       "      <td>253332</td>\n",
       "    </tr>\n",
       "    <tr>\n",
       "      <th>4030</th>\n",
       "      <td>2021.06</td>\n",
       "      <td>34.0</td>\n",
       "      <td>285.892687</td>\n",
       "      <td>9.0</td>\n",
       "      <td>5614.0</td>\n",
       "      <td>486532</td>\n",
       "    </tr>\n",
       "    <tr>\n",
       "      <th>8447</th>\n",
       "      <td>2020.12</td>\n",
       "      <td>0.0</td>\n",
       "      <td>195.213314</td>\n",
       "      <td>6.0</td>\n",
       "      <td>5222.0</td>\n",
       "      <td>595168</td>\n",
       "    </tr>\n",
       "    <tr>\n",
       "      <th>4370</th>\n",
       "      <td>2019.03</td>\n",
       "      <td>34.0</td>\n",
       "      <td>124.082230</td>\n",
       "      <td>8.0</td>\n",
       "      <td>5212.0</td>\n",
       "      <td>250495</td>\n",
       "    </tr>\n",
       "  </tbody>\n",
       "</table>\n",
       "</div>"
      ],
      "text/plain": [
       "      TransactionDate  HouseAge  DistanceToStation  NumberOfPubs  PostCode  \\\n",
       "ID                                                                           \n",
       "8450          2021.02      34.0         460.994365           8.0    5614.0   \n",
       "5758          2020.01      17.0         614.851833           3.0    5213.0   \n",
       "4030          2021.06      34.0         285.892687           9.0    5614.0   \n",
       "8447          2020.12       0.0         195.213314           6.0    5222.0   \n",
       "4370          2019.03      34.0         124.082230           8.0    5212.0   \n",
       "\n",
       "     HousePrice  \n",
       "ID               \n",
       "8450     460286  \n",
       "5758     253332  \n",
       "4030     486532  \n",
       "8447     595168  \n",
       "4370     250495  "
      ]
     },
     "execution_count": 9,
     "metadata": {},
     "output_type": "execute_result"
    }
   ],
   "source": [
    "# See the train parition\n",
    "train.head()"
   ]
  },
  {
   "cell_type": "markdown",
   "metadata": {
    "tags": []
   },
   "source": [
    "# 3. Exploratory Data Analysis"
   ]
  },
  {
   "cell_type": "markdown",
   "metadata": {
    "tags": []
   },
   "source": [
    "## Bird's Eye View"
   ]
  },
  {
   "cell_type": "code",
   "execution_count": 10,
   "metadata": {},
   "outputs": [
    {
     "data": {
      "text/plain": [
       "'460286'"
      ]
     },
     "execution_count": 10,
     "metadata": {},
     "output_type": "execute_result"
    }
   ],
   "source": [
    "train.iloc[0]['HousePrice']"
   ]
  },
  {
   "cell_type": "code",
   "execution_count": 11,
   "metadata": {},
   "outputs": [
    {
     "data": {
      "text/plain": [
       "TransactionDate      float64\n",
       "HouseAge             float64\n",
       "DistanceToStation    float64\n",
       "NumberOfPubs         float64\n",
       "PostCode             float64\n",
       "HousePrice            object\n",
       "dtype: object"
      ]
     },
     "execution_count": 11,
     "metadata": {},
     "output_type": "execute_result"
    }
   ],
   "source": [
    "train.dtypes"
   ]
  },
  {
   "cell_type": "code",
   "execution_count": 12,
   "metadata": {},
   "outputs": [
    {
     "data": {
      "text/plain": [
       "<bound method DataFrame.info of       TransactionDate  HouseAge  DistanceToStation  NumberOfPubs  PostCode  \\\n",
       "ID                                                                           \n",
       "8450          2021.02      34.0         460.994365           8.0    5614.0   \n",
       "5758          2020.01      17.0         614.851833           3.0    5213.0   \n",
       "4030          2021.06      34.0         285.892687           9.0    5614.0   \n",
       "8447          2020.12       0.0         195.213314           6.0    5222.0   \n",
       "4370          2019.03      34.0         124.082230           8.0    5212.0   \n",
       "...               ...       ...                ...           ...       ...   \n",
       "664           2020.08      37.0         375.427313           1.0    5217.0   \n",
       "7540          2020.08      34.0         114.362370           5.0    5212.0   \n",
       "7221          2020.02      16.0         605.834036           2.0    5217.0   \n",
       "1318          2020.11      36.0          34.582346           7.0    5217.0   \n",
       "8915          2019.12      12.0        1599.983379           1.0    5614.0   \n",
       "\n",
       "     HousePrice  \n",
       "ID               \n",
       "8450     460286  \n",
       "5758     253332  \n",
       "4030     486532  \n",
       "8447     595168  \n",
       "4370     250495  \n",
       "...         ...  \n",
       "664      301492  \n",
       "7540     174239  \n",
       "7221     327666  \n",
       "1318     392231  \n",
       "8915     213263  \n",
       "\n",
       "[6549 rows x 6 columns]>"
      ]
     },
     "execution_count": 12,
     "metadata": {},
     "output_type": "execute_result"
    }
   ],
   "source": [
    "# Get info about the data\n",
    "train.info"
   ]
  },
  {
   "cell_type": "code",
   "execution_count": 13,
   "metadata": {},
   "outputs": [
    {
     "data": {
      "text/html": [
       "<div>\n",
       "<style scoped>\n",
       "    .dataframe tbody tr th:only-of-type {\n",
       "        vertical-align: middle;\n",
       "    }\n",
       "\n",
       "    .dataframe tbody tr th {\n",
       "        vertical-align: top;\n",
       "    }\n",
       "\n",
       "    .dataframe thead th {\n",
       "        text-align: right;\n",
       "    }\n",
       "</style>\n",
       "<table border=\"1\" class=\"dataframe\">\n",
       "  <thead>\n",
       "    <tr style=\"text-align: right;\">\n",
       "      <th></th>\n",
       "      <th>TransactionDate</th>\n",
       "      <th>HouseAge</th>\n",
       "      <th>DistanceToStation</th>\n",
       "      <th>NumberOfPubs</th>\n",
       "      <th>PostCode</th>\n",
       "    </tr>\n",
       "  </thead>\n",
       "  <tbody>\n",
       "    <tr>\n",
       "      <th>count</th>\n",
       "      <td>6548.000000</td>\n",
       "      <td>6546.000000</td>\n",
       "      <td>6547.000000</td>\n",
       "      <td>6.547000e+03</td>\n",
       "      <td>6547.000000</td>\n",
       "    </tr>\n",
       "    <tr>\n",
       "      <th>mean</th>\n",
       "      <td>2020.072389</td>\n",
       "      <td>17.375344</td>\n",
       "      <td>1091.759504</td>\n",
       "      <td>7.677828e+02</td>\n",
       "      <td>5294.499160</td>\n",
       "    </tr>\n",
       "    <tr>\n",
       "      <th>std</th>\n",
       "      <td>0.815922</td>\n",
       "      <td>11.469272</td>\n",
       "      <td>1270.038426</td>\n",
       "      <td>6.179430e+04</td>\n",
       "      <td>158.397718</td>\n",
       "    </tr>\n",
       "    <tr>\n",
       "      <th>min</th>\n",
       "      <td>2019.010000</td>\n",
       "      <td>0.000000</td>\n",
       "      <td>23.829424</td>\n",
       "      <td>0.000000e+00</td>\n",
       "      <td>5212.000000</td>\n",
       "    </tr>\n",
       "    <tr>\n",
       "      <th>25%</th>\n",
       "      <td>2019.100000</td>\n",
       "      <td>9.000000</td>\n",
       "      <td>268.649033</td>\n",
       "      <td>1.000000e+00</td>\n",
       "      <td>5213.000000</td>\n",
       "    </tr>\n",
       "    <tr>\n",
       "      <th>50%</th>\n",
       "      <td>2020.070000</td>\n",
       "      <td>15.000000</td>\n",
       "      <td>545.312168</td>\n",
       "      <td>4.000000e+00</td>\n",
       "      <td>5217.000000</td>\n",
       "    </tr>\n",
       "    <tr>\n",
       "      <th>75%</th>\n",
       "      <td>2021.040000</td>\n",
       "      <td>28.000000</td>\n",
       "      <td>1529.343484</td>\n",
       "      <td>6.000000e+00</td>\n",
       "      <td>5222.000000</td>\n",
       "    </tr>\n",
       "    <tr>\n",
       "      <th>max</th>\n",
       "      <td>2021.120000</td>\n",
       "      <td>43.000000</td>\n",
       "      <td>6486.256457</td>\n",
       "      <td>4.999999e+06</td>\n",
       "      <td>5614.000000</td>\n",
       "    </tr>\n",
       "  </tbody>\n",
       "</table>\n",
       "</div>"
      ],
      "text/plain": [
       "       TransactionDate     HouseAge  DistanceToStation  NumberOfPubs  \\\n",
       "count      6548.000000  6546.000000        6547.000000  6.547000e+03   \n",
       "mean       2020.072389    17.375344        1091.759504  7.677828e+02   \n",
       "std           0.815922    11.469272        1270.038426  6.179430e+04   \n",
       "min        2019.010000     0.000000          23.829424  0.000000e+00   \n",
       "25%        2019.100000     9.000000         268.649033  1.000000e+00   \n",
       "50%        2020.070000    15.000000         545.312168  4.000000e+00   \n",
       "75%        2021.040000    28.000000        1529.343484  6.000000e+00   \n",
       "max        2021.120000    43.000000        6486.256457  4.999999e+06   \n",
       "\n",
       "          PostCode  \n",
       "count  6547.000000  \n",
       "mean   5294.499160  \n",
       "std     158.397718  \n",
       "min    5212.000000  \n",
       "25%    5213.000000  \n",
       "50%    5217.000000  \n",
       "75%    5222.000000  \n",
       "max    5614.000000  "
      ]
     },
     "execution_count": 13,
     "metadata": {},
     "output_type": "execute_result"
    }
   ],
   "source": [
    "#Create summary statistics \n",
    "train.describe()"
   ]
  },
  {
   "cell_type": "code",
   "execution_count": 14,
   "metadata": {},
   "outputs": [],
   "source": [
    "# Type cast incorrect datatypes to new datatypes\n",
    "train['PostCode'] = train['PostCode'].astype(str)\n",
    "train['TransactionDate'] = train['TransactionDate'].astype(str)\n",
    "#train['HousePrice'] = train['HousePrice'].astype(float)"
   ]
  },
  {
   "cell_type": "code",
   "execution_count": 15,
   "metadata": {},
   "outputs": [
    {
     "data": {
      "text/html": [
       "<div>\n",
       "<style scoped>\n",
       "    .dataframe tbody tr th:only-of-type {\n",
       "        vertical-align: middle;\n",
       "    }\n",
       "\n",
       "    .dataframe tbody tr th {\n",
       "        vertical-align: top;\n",
       "    }\n",
       "\n",
       "    .dataframe thead th {\n",
       "        text-align: right;\n",
       "    }\n",
       "</style>\n",
       "<table border=\"1\" class=\"dataframe\">\n",
       "  <thead>\n",
       "    <tr style=\"text-align: right;\">\n",
       "      <th></th>\n",
       "      <th>PostCode</th>\n",
       "      <th>TransactionDate</th>\n",
       "    </tr>\n",
       "    <tr>\n",
       "      <th>ID</th>\n",
       "      <th></th>\n",
       "      <th></th>\n",
       "    </tr>\n",
       "  </thead>\n",
       "  <tbody>\n",
       "    <tr>\n",
       "      <th>8450</th>\n",
       "      <td>5614.0</td>\n",
       "      <td>2021.02</td>\n",
       "    </tr>\n",
       "    <tr>\n",
       "      <th>5758</th>\n",
       "      <td>5213.0</td>\n",
       "      <td>2020.01</td>\n",
       "    </tr>\n",
       "    <tr>\n",
       "      <th>4030</th>\n",
       "      <td>5614.0</td>\n",
       "      <td>2021.06</td>\n",
       "    </tr>\n",
       "    <tr>\n",
       "      <th>8447</th>\n",
       "      <td>5222.0</td>\n",
       "      <td>2020.12</td>\n",
       "    </tr>\n",
       "    <tr>\n",
       "      <th>4370</th>\n",
       "      <td>5212.0</td>\n",
       "      <td>2019.03</td>\n",
       "    </tr>\n",
       "    <tr>\n",
       "      <th>...</th>\n",
       "      <td>...</td>\n",
       "      <td>...</td>\n",
       "    </tr>\n",
       "    <tr>\n",
       "      <th>664</th>\n",
       "      <td>5217.0</td>\n",
       "      <td>2020.08</td>\n",
       "    </tr>\n",
       "    <tr>\n",
       "      <th>7540</th>\n",
       "      <td>5212.0</td>\n",
       "      <td>2020.08</td>\n",
       "    </tr>\n",
       "    <tr>\n",
       "      <th>7221</th>\n",
       "      <td>5217.0</td>\n",
       "      <td>2020.02</td>\n",
       "    </tr>\n",
       "    <tr>\n",
       "      <th>1318</th>\n",
       "      <td>5217.0</td>\n",
       "      <td>2020.11</td>\n",
       "    </tr>\n",
       "    <tr>\n",
       "      <th>8915</th>\n",
       "      <td>5614.0</td>\n",
       "      <td>2019.12</td>\n",
       "    </tr>\n",
       "  </tbody>\n",
       "</table>\n",
       "<p>6549 rows × 2 columns</p>\n",
       "</div>"
      ],
      "text/plain": [
       "     PostCode TransactionDate\n",
       "ID                           \n",
       "8450   5614.0         2021.02\n",
       "5758   5213.0         2020.01\n",
       "4030   5614.0         2021.06\n",
       "8447   5222.0         2020.12\n",
       "4370   5212.0         2019.03\n",
       "...       ...             ...\n",
       "664    5217.0         2020.08\n",
       "7540   5212.0         2020.08\n",
       "7221   5217.0         2020.02\n",
       "1318   5217.0         2020.11\n",
       "8915   5614.0         2019.12\n",
       "\n",
       "[6549 rows x 2 columns]"
      ]
     },
     "execution_count": 15,
     "metadata": {},
     "output_type": "execute_result"
    }
   ],
   "source": [
    "train[['PostCode', 'TransactionDate']]"
   ]
  },
  {
   "cell_type": "code",
   "execution_count": 16,
   "metadata": {},
   "outputs": [
    {
     "data": {
      "text/html": [
       "<div>\n",
       "<style scoped>\n",
       "    .dataframe tbody tr th:only-of-type {\n",
       "        vertical-align: middle;\n",
       "    }\n",
       "\n",
       "    .dataframe tbody tr th {\n",
       "        vertical-align: top;\n",
       "    }\n",
       "\n",
       "    .dataframe thead th {\n",
       "        text-align: right;\n",
       "    }\n",
       "</style>\n",
       "<table border=\"1\" class=\"dataframe\">\n",
       "  <thead>\n",
       "    <tr style=\"text-align: right;\">\n",
       "      <th></th>\n",
       "      <th>TransactionDate</th>\n",
       "      <th>PostCode</th>\n",
       "      <th>HousePrice</th>\n",
       "    </tr>\n",
       "  </thead>\n",
       "  <tbody>\n",
       "    <tr>\n",
       "      <th>count</th>\n",
       "      <td>6549</td>\n",
       "      <td>6549</td>\n",
       "      <td>6544</td>\n",
       "    </tr>\n",
       "    <tr>\n",
       "      <th>unique</th>\n",
       "      <td>37</td>\n",
       "      <td>6</td>\n",
       "      <td>6496</td>\n",
       "    </tr>\n",
       "    <tr>\n",
       "      <th>top</th>\n",
       "      <td>2019.01</td>\n",
       "      <td>5212.0</td>\n",
       "      <td>290262</td>\n",
       "    </tr>\n",
       "    <tr>\n",
       "      <th>freq</th>\n",
       "      <td>212</td>\n",
       "      <td>1338</td>\n",
       "      <td>2</td>\n",
       "    </tr>\n",
       "  </tbody>\n",
       "</table>\n",
       "</div>"
      ],
      "text/plain": [
       "       TransactionDate PostCode HousePrice\n",
       "count             6549     6549       6544\n",
       "unique              37        6       6496\n",
       "top            2019.01   5212.0     290262\n",
       "freq               212     1338          2"
      ]
     },
     "execution_count": 16,
     "metadata": {},
     "output_type": "execute_result"
    }
   ],
   "source": [
    "# Type cast incorrrect dataypes to new datatypes\n",
    "train.describe(include='object')"
   ]
  },
  {
   "cell_type": "markdown",
   "metadata": {
    "tags": []
   },
   "source": [
    "## Analyse Numerical Attributes"
   ]
  },
  {
   "cell_type": "markdown",
   "metadata": {
    "tags": []
   },
   "source": [
    "### Plot Distributions"
   ]
  },
  {
   "cell_type": "code",
   "execution_count": 17,
   "metadata": {},
   "outputs": [
    {
     "name": "stdout",
     "output_type": "stream",
     "text": [
      "Collecting matplotlib\n",
      "  Downloading matplotlib-3.7.1-cp311-cp311-win_amd64.whl (7.6 MB)\n",
      "     ---------------------------------------- 0.0/7.6 MB ? eta -:--:--\n",
      "     - -------------------------------------- 0.2/7.6 MB 4.8 MB/s eta 0:00:02\n",
      "     ------ --------------------------------- 1.2/7.6 MB 12.4 MB/s eta 0:00:01\n",
      "     ----------- ---------------------------- 2.2/7.6 MB 17.6 MB/s eta 0:00:01\n",
      "     ---------------- ----------------------- 3.2/7.6 MB 17.0 MB/s eta 0:00:01\n",
      "     ---------------------- ----------------- 4.2/7.6 MB 17.9 MB/s eta 0:00:01\n",
      "     ------------------------------ --------- 5.9/7.6 MB 22.1 MB/s eta 0:00:01\n",
      "     ------------------------------------- -- 7.2/7.6 MB 22.9 MB/s eta 0:00:01\n",
      "     ---------------------------------------  7.6/7.6 MB 21.2 MB/s eta 0:00:01\n",
      "     ---------------------------------------  7.6/7.6 MB 21.2 MB/s eta 0:00:01\n",
      "     ---------------------------------------- 7.6/7.6 MB 16.8 MB/s eta 0:00:00\n",
      "Collecting seaborn\n",
      "  Downloading seaborn-0.12.2-py3-none-any.whl (293 kB)\n",
      "     ---------------------------------------- 0.0/293.3 kB ? eta -:--:--\n",
      "     ------------------------------------- 293.3/293.3 kB 17.7 MB/s eta 0:00:00\n",
      "Collecting contourpy>=1.0.1\n",
      "  Downloading contourpy-1.0.7-cp311-cp311-win_amd64.whl (162 kB)\n",
      "     ---------------------------------------- 0.0/163.0 kB ? eta -:--:--\n",
      "     ---------------------------------------- 163.0/163.0 kB ? eta 0:00:00\n",
      "Collecting cycler>=0.10\n",
      "  Downloading cycler-0.11.0-py3-none-any.whl (6.4 kB)\n",
      "Collecting fonttools>=4.22.0\n",
      "  Downloading fonttools-4.38.0-py3-none-any.whl (965 kB)\n",
      "     ---------------------------------------- 0.0/965.4 kB ? eta -:--:--\n",
      "     ------------------------------------- 965.4/965.4 kB 30.8 MB/s eta 0:00:00\n",
      "Collecting kiwisolver>=1.0.1\n",
      "  Downloading kiwisolver-1.4.4-cp311-cp311-win_amd64.whl (55 kB)\n",
      "     ---------------------------------------- 0.0/55.4 kB ? eta -:--:--\n",
      "     ---------------------------------------- 55.4/55.4 kB 3.0 MB/s eta 0:00:00\n",
      "Requirement already satisfied: numpy>=1.20 in c:\\full stack machine learning\\fullstack\\lib\\site-packages (from matplotlib) (1.24.2)\n",
      "Requirement already satisfied: packaging>=20.0 in c:\\full stack machine learning\\fullstack\\lib\\site-packages (from matplotlib) (23.0)\n",
      "Collecting pillow>=6.2.0\n",
      "  Using cached Pillow-9.4.0-cp311-cp311-win_amd64.whl (2.5 MB)\n",
      "Collecting pyparsing>=2.3.1\n",
      "  Downloading pyparsing-3.0.9-py3-none-any.whl (98 kB)\n",
      "     ---------------------------------------- 0.0/98.3 kB ? eta -:--:--\n",
      "     ---------------------------------------- 98.3/98.3 kB 5.5 MB/s eta 0:00:00\n",
      "Requirement already satisfied: python-dateutil>=2.7 in c:\\full stack machine learning\\fullstack\\lib\\site-packages (from matplotlib) (2.8.2)\n",
      "Requirement already satisfied: pandas>=0.25 in c:\\full stack machine learning\\fullstack\\lib\\site-packages (from seaborn) (1.5.3)\n",
      "Requirement already satisfied: pytz>=2020.1 in c:\\full stack machine learning\\fullstack\\lib\\site-packages (from pandas>=0.25->seaborn) (2022.7.1)\n",
      "Requirement already satisfied: six>=1.5 in c:\\full stack machine learning\\fullstack\\lib\\site-packages (from python-dateutil>=2.7->matplotlib) (1.16.0)\n",
      "Installing collected packages: pyparsing, pillow, kiwisolver, fonttools, cycler, contourpy, matplotlib, seaborn\n",
      "Successfully installed contourpy-1.0.7 cycler-0.11.0 fonttools-4.38.0 kiwisolver-1.4.4 matplotlib-3.7.1 pillow-9.4.0 pyparsing-3.0.9 seaborn-0.12.2\n"
     ]
    }
   ],
   "source": [
    "# Install dependencies\n",
    "!pip install matplotlib seaborn"
   ]
  },
  {
   "cell_type": "code",
   "execution_count": 18,
   "metadata": {},
   "outputs": [
    {
     "name": "stdout",
     "output_type": "stream",
     "text": [
      "Name: seaborn\n",
      "Version: 0.12.2\n",
      "Summary: Statistical data visualization\n",
      "Home-page: \n",
      "Author: \n",
      "Author-email: Michael Waskom <mwaskom@gmail.com>\n",
      "License: \n",
      "Location: C:\\Full Stack Machine Learning\\fullstack\\Lib\\site-packages\n",
      "Requires: matplotlib, numpy, pandas\n",
      "Required-by: \n"
     ]
    }
   ],
   "source": [
    "!pip show seaborn"
   ]
  },
  {
   "cell_type": "code",
   "execution_count": 19,
   "metadata": {},
   "outputs": [],
   "source": [
    "# Import data viz libs\n",
    "from matplotlib import pyplot as plt\n",
    "import seaborn as sns"
   ]
  },
  {
   "cell_type": "code",
   "execution_count": 22,
   "metadata": {},
   "outputs": [
    {
     "data": {
      "text/plain": [
       "(6549, 6)"
      ]
     },
     "execution_count": 22,
     "metadata": {},
     "output_type": "execute_result"
    }
   ],
   "source": [
    "# Show shape of data\n",
    "train.shape"
   ]
  },
  {
   "cell_type": "code",
   "execution_count": 21,
   "metadata": {},
   "outputs": [
    {
     "data": {
      "text/plain": [
       "<function matplotlib.pyplot.show(close=None, block=None)>"
      ]
     },
     "execution_count": 21,
     "metadata": {},
     "output_type": "execute_result"
    },
    {
     "data": {
      "image/png": "[encoded data removed]",
      "text/plain": [
       "<Figure size 1000x800 with 4 Axes>"
      ]
     },
     "metadata": {},
     "output_type": "display_data"
    }
   ],
   "source": [
    "# Plot distributions \n",
    "train.hist(figsize=(10,8), bins=50)\n",
    "plt.show"
   ]
  },
  {
   "cell_type": "markdown",
   "metadata": {
    "tags": []
   },
   "source": [
    "### Why isn't House Price Showing up as Numeric?"
   ]
  },
  {
   "cell_type": "code",
   "execution_count": null,
   "metadata": {},
   "outputs": [],
   "source": [
    "# str => float\n",
    "train['HousePrice'].astype(float)"
   ]
  },
  {
   "cell_type": "code",
   "execution_count": null,
   "metadata": {},
   "outputs": [],
   "source": [
    "# Filter dataset based on HousePrice = '??'\n",
    "train[(train['HousePrice'] == '??']"
   ]
  },
  {
   "cell_type": "markdown",
   "metadata": {
    "tags": []
   },
   "source": [
    "### Drop Outlier "
   ]
  },
  {
   "cell_type": "markdown",
   "metadata": {
    "tags": []
   },
   "source": [
    "### What's happening with pubs"
   ]
  },
  {
   "cell_type": "markdown",
   "metadata": {
    "tags": []
   },
   "source": [
    "## Analyse Categorical Variables"
   ]
  },
  {
   "cell_type": "markdown",
   "metadata": {
    "tags": []
   },
   "source": [
    "## Analyse Relationships Numeric/Numeric"
   ]
  },
  {
   "cell_type": "markdown",
   "metadata": {
    "tags": []
   },
   "source": [
    "### Calculate Pearson's Correlation"
   ]
  },
  {
   "cell_type": "markdown",
   "metadata": {
    "tags": []
   },
   "source": [
    "## Analyse Relationships Cat/Num"
   ]
  },
  {
   "cell_type": "markdown",
   "metadata": {
    "tags": []
   },
   "source": [
    "### Is Post Code Driving Value?"
   ]
  },
  {
   "cell_type": "markdown",
   "metadata": {
    "tags": []
   },
   "source": [
    "### What about the date it was sold?"
   ]
  },
  {
   "cell_type": "markdown",
   "metadata": {
    "jp-MarkdownHeadingCollapsed": true,
    "tags": []
   },
   "source": [
    "# 4. Data Preprocessing"
   ]
  },
  {
   "cell_type": "markdown",
   "metadata": {
    "tags": []
   },
   "source": [
    "## Build Preprocessing Function"
   ]
  },
  {
   "cell_type": "markdown",
   "metadata": {
    "tags": []
   },
   "source": [
    "## Preview Preprocessed Data"
   ]
  },
  {
   "cell_type": "markdown",
   "metadata": {
    "tags": []
   },
   "source": [
    "## Clean up Analysis Features"
   ]
  },
  {
   "cell_type": "markdown",
   "metadata": {
    "tags": []
   },
   "source": [
    "## Create X and y values"
   ]
  },
  {
   "cell_type": "markdown",
   "metadata": {
    "jp-MarkdownHeadingCollapsed": true,
    "tags": []
   },
   "source": [
    "# 5. Modelling"
   ]
  },
  {
   "cell_type": "markdown",
   "metadata": {
    "tags": []
   },
   "source": [
    "## Import ML Dependencies"
   ]
  },
  {
   "cell_type": "markdown",
   "metadata": {
    "tags": []
   },
   "source": [
    "## Create Pipelines"
   ]
  },
  {
   "cell_type": "markdown",
   "metadata": {
    "tags": []
   },
   "source": [
    "### Training Outside of a Pipeline"
   ]
  },
  {
   "cell_type": "markdown",
   "metadata": {
    "tags": []
   },
   "source": [
    "## Create Tuning Grids"
   ]
  },
  {
   "cell_type": "markdown",
   "metadata": {
    "tags": []
   },
   "source": [
    "## Train Models and Perform HPO"
   ]
  },
  {
   "cell_type": "markdown",
   "metadata": {
    "jp-MarkdownHeadingCollapsed": true,
    "tags": []
   },
   "source": [
    "# 6. Evaluate Models"
   ]
  },
  {
   "cell_type": "markdown",
   "metadata": {
    "tags": []
   },
   "source": [
    "## Import Evaluation Metrics"
   ]
  },
  {
   "cell_type": "markdown",
   "metadata": {
    "tags": []
   },
   "source": [
    "## Preprocess Test Set For Predictions"
   ]
  },
  {
   "cell_type": "markdown",
   "metadata": {
    "tags": []
   },
   "source": [
    "### Look for Nulls"
   ]
  },
  {
   "cell_type": "markdown",
   "metadata": {
    "tags": []
   },
   "source": [
    "### Check datatypes"
   ]
  },
  {
   "cell_type": "markdown",
   "metadata": {
    "tags": []
   },
   "source": [
    "### Create X_test and y_test "
   ]
  },
  {
   "cell_type": "markdown",
   "metadata": {
    "tags": []
   },
   "source": [
    "## Calculate Regression Metrics"
   ]
  },
  {
   "cell_type": "markdown",
   "metadata": {
    "tags": []
   },
   "source": [
    "## Make Predictions"
   ]
  },
  {
   "cell_type": "markdown",
   "metadata": {
    "tags": []
   },
   "source": [
    "## Explain model"
   ]
  },
  {
   "cell_type": "markdown",
   "metadata": {},
   "source": [
    "### Calculate Feature Importance"
   ]
  },
  {
   "cell_type": "markdown",
   "metadata": {},
   "source": [
    "### Calculate Feature Importance for All Models"
   ]
  },
  {
   "cell_type": "markdown",
   "metadata": {},
   "source": [
    "### Plot Trees"
   ]
  },
  {
   "cell_type": "markdown",
   "metadata": {
    "tags": []
   },
   "source": [
    "# 7. Save model"
   ]
  }
 ],
 "metadata": {
  "kernelspec": {
   "display_name": "fullstack",
   "language": "python",
   "name": "fullstack"
  },
  "language_info": {
   "codemirror_mode": {
    "name": "ipython",
    "version": 3
   },
   "file_extension": ".py",
   "mimetype": "text/x-python",
   "name": "python",
   "nbconvert_exporter": "python",
   "pygments_lexer": "ipython3",
   "version": "3.11.0"
  }
 },
 "nbformat": 4,
 "nbformat_minor": 4
}
